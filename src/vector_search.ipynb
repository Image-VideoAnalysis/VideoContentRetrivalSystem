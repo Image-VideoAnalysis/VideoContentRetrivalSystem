{
 "cells": [
  {
   "cell_type": "code",
   "execution_count": 1,
   "id": "bbf6cbc0",
   "metadata": {},
   "outputs": [],
   "source": [
    "import torch\n",
    "import clip\n",
    "from PIL import Image\n",
    "import faiss\n",
    "import numpy as np\n",
    "import os\n",
    "from tqdm import tqdm \n",
    "\n",
    "\n",
    "device = \"cuda\" if torch.cuda.is_available() else \"cpu\"\n",
    "model, preprocess = clip.load(\"ViT-L/14\", device=device)\n",
    "\n",
    "os.environ[\"KMP_DUPLICATE_LIB_OK\"] = \"TRUE\"\n",
    "\n",
    "def encode_images(image_paths):\n",
    "    image_features_list = []\n",
    "    with torch.no_grad():\n",
    "        for img_path in tqdm(image_paths, desc=\"Encoding images\"):\n",
    "            image = preprocess(Image.open(img_path)).unsqueeze(0).to(device)\n",
    "            image_features = model.encode_image(image)\n",
    "            image_features = torch.nn.functional.normalize(image_features, p=2, dim=1)\n",
    "            image_features_list.append(image_features.cpu().numpy())\n",
    "    return np.vstack(image_features_list).astype('float32')\n",
    "\n",
    "def encode_text(text_queries):\n",
    "    text = clip.tokenize(text_queries).to(device)\n",
    "    with torch.no_grad():\n",
    "        text_features = model.encode_text(text)\n",
    "        text_features = torch.nn.functional.normalize(text_features, p=2, dim=1)\n",
    "    return text_features.cpu().numpy().astype('float32')\n",
    "\n",
    "def create_faiss_index(features):\n",
    "    d = features.shape[1]\n",
    "    index = faiss.IndexFlatIP(d)  # Inner product index (cosine similarity on normalized vectors)\n",
    "    index.add(features)\n",
    "    return index\n",
    "\n",
    "def save_faiss_index(index, file_path):\n",
    "    faiss.write_index(index, file_path)\n",
    "\n",
    "def load_faiss_index(file_path):\n",
    "    return faiss.read_index(file_path)\n",
    "\n",
    "def query_index(index, query_features, image_paths, top_k=3):\n",
    "    D, I = index.search(query_features, top_k)\n",
    "    \n",
    "    results = []\n",
    "    for i, query in enumerate(query_features):\n",
    "        query_results = []\n",
    "        for rank, (idx, score) in enumerate(zip(I[i], D[i])):\n",
    "            query_results.append((image_paths[idx], score))\n",
    "        results.append(query_results)\n",
    "    return results"
   ]
  },
  {
   "cell_type": "code",
   "execution_count": 4,
   "id": "074c3fb6",
   "metadata": {},
   "outputs": [
    {
     "name": "stdout",
     "output_type": "stream",
     "text": [
      "Scanning for image files...\n",
      "Found 14994 images. Starting encoding...\n"
     ]
    },
    {
     "name": "stderr",
     "output_type": "stream",
     "text": [
      "Encoding images: 100%|██████████| 14994/14994 [3:43:18<00:00,  1.12it/s]  "
     ]
    },
    {
     "name": "stdout",
     "output_type": "stream",
     "text": [
      "Creating FAISS index...\n",
      "Saving FAISS index...\n"
     ]
    },
    {
     "name": "stderr",
     "output_type": "stream",
     "text": [
      "\n"
     ]
    }
   ],
   "source": [
    "'''Create FAISS index for images'''\n",
    "\n",
    "image_paths = []\n",
    "print(\"Scanning for image files...\")\n",
    "for root, dirs, files in os.walk(\"../../SBDresults/keyframes/\"):\n",
    "    for file in files:\n",
    "        if file.lower().endswith(('.png', '.jpg', '.jpeg')):\n",
    "            image_paths.append(os.path.join(root, file))\n",
    "\n",
    "print(f\"Found {len(image_paths)} images. Starting encoding...\")\n",
    "image_features_np = encode_images(image_paths)\n",
    "\n",
    "print(\"Creating FAISS index...\")\n",
    "index = create_faiss_index(image_features_np)\n",
    "\n",
    "print(\"Saving FAISS index...\")\n",
    "save_faiss_index(index, \"image_index.faiss\")"
   ]
  },
  {
   "cell_type": "code",
   "execution_count": 3,
   "id": "3209ad2f",
   "metadata": {},
   "outputs": [
    {
     "name": "stdout",
     "output_type": "stream",
     "text": [
      "\n",
      "Query: guitar\n",
      "Rank 1: Image = ../SBDresults/keyframes/00102/00102_24.jpg, Similarity = 0.2484\n",
      "Rank 2: Image = ../SBDresults/keyframes/00016/00016_45.jpg, Similarity = 0.2438\n",
      "Rank 3: Image = ../SBDresults/keyframes/00055/00055_75.jpg, Similarity = 0.2417\n",
      "Rank 4: Image = ../SBDresults/keyframes/00150/00150_54.jpg, Similarity = 0.2378\n",
      "Rank 5: Image = ../SBDresults/keyframes/00179/00179_25.jpg, Similarity = 0.2374\n",
      "Rank 6: Image = ../SBDresults/keyframes/00052/00052_6.jpg, Similarity = 0.2364\n",
      "Rank 7: Image = ../SBDresults/keyframes/00052/00052_32.jpg, Similarity = 0.2364\n",
      "Rank 8: Image = ../SBDresults/keyframes/00087/00087_11.jpg, Similarity = 0.2361\n",
      "Rank 9: Image = ../SBDresults/keyframes/00052/00052_11.jpg, Similarity = 0.2358\n",
      "Rank 10: Image = ../SBDresults/keyframes/00179/00179_34.jpg, Similarity = 0.2357\n"
     ]
    }
   ],
   "source": [
    "'''Use a loaded FAISS index to query images'''\n",
    "\n",
    "image_paths = []\n",
    "for root, dirs, files in os.walk(\"../SBDresults/keyframes/\"):\n",
    "    for file in files:\n",
    "        if file.lower().endswith(('.png', '.jpg', '.jpeg')):\n",
    "            image_paths.append(os.path.join(root, file))\n",
    "\n",
    "index = load_faiss_index(\"image_index.faiss\")\n",
    "\n",
    "# Query\n",
    "text_queries = [\"guitar\"]\n",
    "text_features_np = encode_text(text_queries)\n",
    "results = query_index(index, text_features_np, image_paths, top_k=10)\n",
    "\n",
    "for i, query in enumerate(text_queries):\n",
    "    print(f\"\\nQuery: {query}\")\n",
    "    for rank, (path, score) in enumerate(results[i]):\n",
    "        print(f\"Rank {rank + 1}: Image = {path}, Similarity = {score:.4f}\")"
   ]
  }
 ],
 "metadata": {
  "kernelspec": {
   "display_name": "base",
   "language": "python",
   "name": "python3"
  },
  "language_info": {
   "codemirror_mode": {
    "name": "ipython",
    "version": 3
   },
   "file_extension": ".py",
   "mimetype": "text/x-python",
   "name": "python",
   "nbconvert_exporter": "python",
   "pygments_lexer": "ipython3",
   "version": "3.12.2"
  }
 },
 "nbformat": 4,
 "nbformat_minor": 5
}
